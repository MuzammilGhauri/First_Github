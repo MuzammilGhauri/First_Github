{
 "cells": [
  {
   "cell_type": "markdown",
   "id": "2c1a6527",
   "metadata": {},
   "source": [
    "#Data Structures\n",
    "\n",
    "##Tuple"
   ]
  },
  {
   "cell_type": "code",
   "execution_count": null,
   "id": "4106e9f4",
   "metadata": {},
   "outputs": [],
   "source": [
    "#Define a random tuple"
   ]
  },
  {
   "cell_type": "code",
   "execution_count": 2,
   "id": "30c5900e",
   "metadata": {
    "scrolled": false
   },
   "outputs": [
    {
     "data": {
      "text/plain": [
       "(1, 1, 1, 2, 3, 'Salaar', 2.5, True)"
      ]
     },
     "execution_count": 2,
     "metadata": {},
     "output_type": "execute_result"
    }
   ],
   "source": [
    "tup1= (1, 1, 1, 2, 3, \"Salaar\", 2.5, False)\n",
    "tup1"
   ]
  },
  {
   "cell_type": "code",
   "execution_count": null,
   "id": "72141dd3",
   "metadata": {},
   "outputs": [],
   "source": [
    "#Check Type of tuple"
   ]
  },
  {
   "cell_type": "code",
   "execution_count": 4,
   "id": "e9eba36b",
   "metadata": {},
   "outputs": [
    {
     "data": {
      "text/plain": [
       "tuple"
      ]
     },
     "execution_count": 4,
     "metadata": {},
     "output_type": "execute_result"
    }
   ],
   "source": [
    "type(tup1)"
   ]
  },
  {
   "cell_type": "code",
   "execution_count": null,
   "id": "ef3c3244",
   "metadata": {},
   "outputs": [],
   "source": [
    "#Check tuple count"
   ]
  },
  {
   "cell_type": "code",
   "execution_count": 16,
   "id": "52b5fbd1",
   "metadata": {},
   "outputs": [
    {
     "data": {
      "text/plain": [
       "4"
      ]
     },
     "execution_count": 16,
     "metadata": {},
     "output_type": "execute_result"
    }
   ],
   "source": [
    "tup1.count(1)"
   ]
  },
  {
   "cell_type": "code",
   "execution_count": null,
   "id": "4fc3e2c1",
   "metadata": {},
   "outputs": [],
   "source": [
    "#check index number in tuple"
   ]
  },
  {
   "cell_type": "code",
   "execution_count": 18,
   "id": "e44aa349",
   "metadata": {
    "scrolled": true
   },
   "outputs": [
    {
     "data": {
      "text/plain": [
       "5"
      ]
     },
     "execution_count": 18,
     "metadata": {},
     "output_type": "execute_result"
    }
   ],
   "source": [
    "tup1.index(\"Salaar\")"
   ]
  },
  {
   "cell_type": "code",
   "execution_count": 23,
   "id": "bab5bf55",
   "metadata": {
    "scrolled": true
   },
   "outputs": [
    {
     "data": {
      "text/plain": [
       "2"
      ]
     },
     "execution_count": 23,
     "metadata": {},
     "output_type": "execute_result"
    }
   ],
   "source": [
    "tup1[3]"
   ]
  },
  {
   "cell_type": "code",
   "execution_count": null,
   "id": "2ba7f9ef",
   "metadata": {},
   "outputs": [],
   "source": [
    "# finding elements from one index to another (this excludes the last one)"
   ]
  },
  {
   "cell_type": "code",
   "execution_count": 24,
   "id": "e525ab3a",
   "metadata": {},
   "outputs": [
    {
     "data": {
      "text/plain": [
       "(1, 1, 1, 2)"
      ]
     },
     "execution_count": 24,
     "metadata": {},
     "output_type": "execute_result"
    }
   ],
   "source": [
    "tup1[0:4]"
   ]
  },
  {
   "cell_type": "code",
   "execution_count": 25,
   "id": "5b7325ce",
   "metadata": {
    "scrolled": true
   },
   "outputs": [
    {
     "data": {
      "text/plain": [
       "(1, 1)"
      ]
     },
     "execution_count": 25,
     "metadata": {},
     "output_type": "execute_result"
    }
   ],
   "source": [
    "tup1[1:3]"
   ]
  },
  {
   "cell_type": "code",
   "execution_count": null,
   "id": "34357a5f",
   "metadata": {},
   "outputs": [],
   "source": [
    "#finding length (total elements) of a tuple"
   ]
  },
  {
   "cell_type": "code",
   "execution_count": 28,
   "id": "4815f504",
   "metadata": {},
   "outputs": [
    {
     "data": {
      "text/plain": [
       "8"
      ]
     },
     "execution_count": 28,
     "metadata": {},
     "output_type": "execute_result"
    }
   ],
   "source": [
    "len(tup1)"
   ]
  },
  {
   "cell_type": "code",
   "execution_count": null,
   "id": "2572e8f5",
   "metadata": {},
   "outputs": [],
   "source": [
    "#concatenation / Addition of two tuples"
   ]
  },
  {
   "cell_type": "code",
   "execution_count": 19,
   "id": "0b24ca89",
   "metadata": {
    "scrolled": true
   },
   "outputs": [
    {
     "data": {
      "text/plain": [
       "(1, 1, 1, 2, 3, 'Salaar', 2.5, True, 2, 4, 6, 'zainab', False)"
      ]
     },
     "execution_count": 19,
     "metadata": {},
     "output_type": "execute_result"
    }
   ],
   "source": [
    "tup2 = (2, 4, 6, \"zainab\", False)\n",
    "tup1 + tup2"
   ]
  },
  {
   "cell_type": "code",
   "execution_count": null,
   "id": "ec038d25",
   "metadata": {},
   "outputs": [],
   "source": [
    "#Multiplying a tuple with a number to repeat tuple"
   ]
  },
  {
   "cell_type": "code",
   "execution_count": 20,
   "id": "905577e1",
   "metadata": {
    "scrolled": false
   },
   "outputs": [
    {
     "data": {
      "text/plain": [
       "(1, 1, 1, 2, 3, 'Salaar', 2.5, True, 1, 1, 1, 2, 3, 'Salaar', 2.5, True)"
      ]
     },
     "execution_count": 20,
     "metadata": {},
     "output_type": "execute_result"
    }
   ],
   "source": [
    "tup1 * 2"
   ]
  },
  {
   "cell_type": "code",
   "execution_count": 30,
   "id": "29a6e88f",
   "metadata": {
    "scrolled": true
   },
   "outputs": [
    {
     "data": {
      "text/plain": [
       "(1,\n",
       " 1,\n",
       " 1,\n",
       " 2,\n",
       " 3,\n",
       " 'Salaar',\n",
       " 2.5,\n",
       " True,\n",
       " 1,\n",
       " 1,\n",
       " 1,\n",
       " 2,\n",
       " 3,\n",
       " 'Salaar',\n",
       " 2.5,\n",
       " True,\n",
       " 2,\n",
       " 4,\n",
       " 6,\n",
       " 'zainab',\n",
       " False)"
      ]
     },
     "execution_count": 30,
     "metadata": {},
     "output_type": "execute_result"
    }
   ],
   "source": [
    "tup1 * 2 + tup2"
   ]
  },
  {
   "cell_type": "code",
   "execution_count": null,
   "id": "362f2b40",
   "metadata": {},
   "outputs": [],
   "source": [
    "#Finding min and max value in tuple"
   ]
  },
  {
   "cell_type": "code",
   "execution_count": 32,
   "id": "f1c2e3dc",
   "metadata": {
    "scrolled": true
   },
   "outputs": [
    {
     "data": {
      "text/plain": [
       "3"
      ]
     },
     "execution_count": 32,
     "metadata": {},
     "output_type": "execute_result"
    }
   ],
   "source": [
    "tup3 = (4,6,3,6,8,9,6,4,3,5,6,8,9)\n",
    "min(tup3)"
   ]
  },
  {
   "cell_type": "code",
   "execution_count": 33,
   "id": "66ee4012",
   "metadata": {
    "scrolled": false
   },
   "outputs": [
    {
     "data": {
      "text/plain": [
       "9"
      ]
     },
     "execution_count": 33,
     "metadata": {},
     "output_type": "execute_result"
    }
   ],
   "source": [
    "max(tup3)"
   ]
  },
  {
   "cell_type": "code",
   "execution_count": null,
   "id": "25714594",
   "metadata": {},
   "outputs": [],
   "source": [
    "#Drawing a line (although not related to tuple but an attribute of markdown in jupyter notebook). Draw three lines in markdown and press ctrl + enter"
   ]
  },
  {
   "cell_type": "markdown",
   "id": "c839f2ab",
   "metadata": {},
   "source": [
    "---"
   ]
  }
 ],
 "metadata": {
  "kernelspec": {
   "display_name": "Python 3 (ipykernel)",
   "language": "python",
   "name": "python3"
  },
  "language_info": {
   "codemirror_mode": {
    "name": "ipython",
    "version": 3
   },
   "file_extension": ".py",
   "mimetype": "text/x-python",
   "name": "python",
   "nbconvert_exporter": "python",
   "pygments_lexer": "ipython3",
   "version": "3.9.7"
  }
 },
 "nbformat": 4,
 "nbformat_minor": 5
}
