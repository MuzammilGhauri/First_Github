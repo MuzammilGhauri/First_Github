{
 "cells": [
  {
   "cell_type": "markdown",
   "id": "ce936004",
   "metadata": {},
   "source": [
    "# Data Structures\n",
    "\n",
    "## Sets"
   ]
  },
  {
   "cell_type": "markdown",
   "id": "aa048aa7",
   "metadata": {},
   "source": [
    "- Un-ordered and Un-indexed\n",
    "- written inside curly brackets\n",
    "- Does not incoporate duplicaiton\n",
    "- Does not incorporate Boolean"
   ]
  },
  {
   "cell_type": "code",
   "execution_count": 1,
   "id": "4685c7d9",
   "metadata": {},
   "outputs": [],
   "source": [
    "#defining a set"
   ]
  },
  {
   "cell_type": "code",
   "execution_count": 2,
   "id": "debdf748",
   "metadata": {},
   "outputs": [
    {
     "data": {
      "text/plain": [
       "{2, 4, 5.6, True, 'salaar', 'zainab'}"
      ]
     },
     "execution_count": 2,
     "metadata": {},
     "output_type": "execute_result"
    }
   ],
   "source": [
    "set1 = {2, 4, 5.6, \"zainab\", \"salaar\", True}\n",
    "set1"
   ]
  },
  {
   "cell_type": "code",
   "execution_count": 3,
   "id": "25beef61",
   "metadata": {},
   "outputs": [],
   "source": [
    "#finding length of a set"
   ]
  },
  {
   "cell_type": "code",
   "execution_count": 4,
   "id": "c1947493",
   "metadata": {
    "scrolled": false
   },
   "outputs": [
    {
     "data": {
      "text/plain": [
       "6"
      ]
     },
     "execution_count": 4,
     "metadata": {},
     "output_type": "execute_result"
    }
   ],
   "source": [
    "len(set1)"
   ]
  },
  {
   "cell_type": "code",
   "execution_count": 5,
   "id": "788d1e62",
   "metadata": {},
   "outputs": [],
   "source": [
    "#adding element into a set"
   ]
  },
  {
   "cell_type": "code",
   "execution_count": 6,
   "id": "05c74162",
   "metadata": {
    "scrolled": true
   },
   "outputs": [
    {
     "data": {
      "text/plain": [
       "{2, 4, 5.6, True, 'my kids', 'salaar', 'zainab'}"
      ]
     },
     "execution_count": 6,
     "metadata": {},
     "output_type": "execute_result"
    }
   ],
   "source": [
    "set1.add(\"my kids\")\n",
    "set1"
   ]
  },
  {
   "cell_type": "code",
   "execution_count": 7,
   "id": "ec3a4580",
   "metadata": {},
   "outputs": [],
   "source": [
    "#finding differences between two sets"
   ]
  },
  {
   "cell_type": "code",
   "execution_count": 8,
   "id": "f4a402a6",
   "metadata": {
    "scrolled": false
   },
   "outputs": [
    {
     "data": {
      "text/plain": [
       "{5, 7, 9}"
      ]
     },
     "execution_count": 8,
     "metadata": {},
     "output_type": "execute_result"
    }
   ],
   "source": [
    "set2 = {2,  3, 4, 6, 8, 10}\n",
    "set3 = {3, 5, 7, 9}\n",
    "set3.difference(set2)"
   ]
  },
  {
   "cell_type": "code",
   "execution_count": 9,
   "id": "c02798e5",
   "metadata": {},
   "outputs": [],
   "source": [
    "#finding difference between two sets and updating the set with resulted value"
   ]
  },
  {
   "cell_type": "code",
   "execution_count": 10,
   "id": "bbce4923",
   "metadata": {
    "scrolled": true
   },
   "outputs": [
    {
     "data": {
      "text/plain": [
       "{2, 4, 6, 8, 10}"
      ]
     },
     "execution_count": 10,
     "metadata": {},
     "output_type": "execute_result"
    }
   ],
   "source": [
    "set2.difference_update(set3)\n",
    "set2"
   ]
  },
  {
   "cell_type": "code",
   "execution_count": 11,
   "id": "caec7fc6",
   "metadata": {},
   "outputs": [],
   "source": [
    "#discarding a defined element from a set"
   ]
  },
  {
   "cell_type": "code",
   "execution_count": 12,
   "id": "48d12d4c",
   "metadata": {
    "scrolled": false
   },
   "outputs": [
    {
     "data": {
      "text/plain": [
       "{2, 6, 8, 10}"
      ]
     },
     "execution_count": 12,
     "metadata": {},
     "output_type": "execute_result"
    }
   ],
   "source": [
    "set2.discard(4)\n",
    "set2"
   ]
  },
  {
   "cell_type": "code",
   "execution_count": 13,
   "id": "405065f1",
   "metadata": {},
   "outputs": [],
   "source": [
    "#Finding common elements in two sets"
   ]
  },
  {
   "cell_type": "code",
   "execution_count": 14,
   "id": "ac19fef2",
   "metadata": {
    "scrolled": true
   },
   "outputs": [
    {
     "data": {
      "text/plain": [
       "{2}"
      ]
     },
     "execution_count": 14,
     "metadata": {},
     "output_type": "execute_result"
    }
   ],
   "source": [
    "set2.intersection(set1)"
   ]
  },
  {
   "cell_type": "code",
   "execution_count": 15,
   "id": "2e20fdea",
   "metadata": {},
   "outputs": [],
   "source": [
    "#finding common elements of two sets and updating one set with result value"
   ]
  },
  {
   "cell_type": "code",
   "execution_count": 16,
   "id": "318d0996",
   "metadata": {
    "scrolled": false
   },
   "outputs": [
    {
     "data": {
      "text/plain": [
       "{2}"
      ]
     },
     "execution_count": 16,
     "metadata": {},
     "output_type": "execute_result"
    }
   ],
   "source": [
    "set2.intersection_update(set1)\n",
    "set2"
   ]
  },
  {
   "cell_type": "code",
   "execution_count": 17,
   "id": "d61435c3",
   "metadata": {},
   "outputs": [],
   "source": [
    "#Finding if one set is subset of another"
   ]
  },
  {
   "cell_type": "code",
   "execution_count": 18,
   "id": "bb624c48",
   "metadata": {
    "scrolled": true
   },
   "outputs": [
    {
     "data": {
      "text/plain": [
       "True"
      ]
     },
     "execution_count": 18,
     "metadata": {},
     "output_type": "execute_result"
    }
   ],
   "source": [
    "set2= {2,4,6,8,\"zainab\"}\n",
    "set4={1,2,3,4,5,6,7,8,\"zainab\", \"salaar\"}\n",
    "set2.issubset(set4)"
   ]
  },
  {
   "cell_type": "code",
   "execution_count": 19,
   "id": "492ef306",
   "metadata": {},
   "outputs": [
    {
     "data": {
      "text/plain": [
       "{2, 4, 6, 8, 'zainab'}"
      ]
     },
     "execution_count": 19,
     "metadata": {},
     "output_type": "execute_result"
    }
   ],
   "source": [
    "set2"
   ]
  },
  {
   "cell_type": "code",
   "execution_count": 20,
   "id": "050ae468",
   "metadata": {},
   "outputs": [],
   "source": [
    "#Finding if all elements of two sets are distinct from each other or not"
   ]
  },
  {
   "cell_type": "code",
   "execution_count": 21,
   "id": "ca2275b9",
   "metadata": {
    "scrolled": true
   },
   "outputs": [
    {
     "data": {
      "text/plain": [
       "False"
      ]
     },
     "execution_count": 21,
     "metadata": {},
     "output_type": "execute_result"
    }
   ],
   "source": [
    "set2.isdisjoint(set4)"
   ]
  },
  {
   "cell_type": "code",
   "execution_count": 22,
   "id": "1615366e",
   "metadata": {},
   "outputs": [],
   "source": [
    "#Finding if one set is superset of another set"
   ]
  },
  {
   "cell_type": "code",
   "execution_count": 23,
   "id": "158affbc",
   "metadata": {
    "scrolled": true
   },
   "outputs": [
    {
     "data": {
      "text/plain": [
       "True"
      ]
     },
     "execution_count": 23,
     "metadata": {},
     "output_type": "execute_result"
    }
   ],
   "source": [
    "set4.issuperset(set2)"
   ]
  },
  {
   "cell_type": "code",
   "execution_count": 24,
   "id": "2f74d644",
   "metadata": {},
   "outputs": [],
   "source": [
    "#removing a specific element from a set and returning error if said element is not present in the set"
   ]
  },
  {
   "cell_type": "code",
   "execution_count": 25,
   "id": "3620d607",
   "metadata": {
    "scrolled": false
   },
   "outputs": [
    {
     "data": {
      "text/plain": [
       "{2, 4, 6, 8}"
      ]
     },
     "execution_count": 25,
     "metadata": {},
     "output_type": "execute_result"
    }
   ],
   "source": [
    "set2.remove(\"zainab\")\n",
    "set2"
   ]
  },
  {
   "cell_type": "code",
   "execution_count": 26,
   "id": "6905a24c",
   "metadata": {},
   "outputs": [],
   "source": [
    "#Removing random value from a set and returing the removed value"
   ]
  },
  {
   "cell_type": "code",
   "execution_count": 27,
   "id": "98bae927",
   "metadata": {
    "scrolled": true
   },
   "outputs": [
    {
     "data": {
      "text/plain": [
       "2"
      ]
     },
     "execution_count": 27,
     "metadata": {},
     "output_type": "execute_result"
    }
   ],
   "source": [
    "set2.pop()"
   ]
  },
  {
   "cell_type": "code",
   "execution_count": 28,
   "id": "6bcff4b7",
   "metadata": {},
   "outputs": [],
   "source": [
    "#finding elements which are present only in a specific set"
   ]
  },
  {
   "cell_type": "code",
   "execution_count": 29,
   "id": "f0ff4a88",
   "metadata": {
    "scrolled": true
   },
   "outputs": [
    {
     "data": {
      "text/plain": [
       "{1, 2, 3, 5, 7, 'salaar', 'zainab'}"
      ]
     },
     "execution_count": 29,
     "metadata": {},
     "output_type": "execute_result"
    }
   ],
   "source": [
    "set4.symmetric_difference(set2)"
   ]
  },
  {
   "cell_type": "code",
   "execution_count": 30,
   "id": "901da558",
   "metadata": {},
   "outputs": [],
   "source": [
    "#finding elements which are present only in a specific set and uodating the value of set with returned value"
   ]
  },
  {
   "cell_type": "code",
   "execution_count": 31,
   "id": "6f7fe242",
   "metadata": {
    "scrolled": true
   },
   "outputs": [
    {
     "data": {
      "text/plain": [
       "{1, 2, 3, 5, 7, 'salaar', 'zainab'}"
      ]
     },
     "execution_count": 31,
     "metadata": {},
     "output_type": "execute_result"
    }
   ],
   "source": [
    "set4.symmetric_difference_update(set2)\n",
    "set4"
   ]
  },
  {
   "cell_type": "code",
   "execution_count": 32,
   "id": "640468c2",
   "metadata": {},
   "outputs": [],
   "source": [
    "#Combining two sets or finding union of two se"
   ]
  },
  {
   "cell_type": "code",
   "execution_count": 33,
   "id": "587bef7f",
   "metadata": {
    "scrolled": false
   },
   "outputs": [
    {
     "data": {
      "text/plain": [
       "{1, 2, 3, 4, 5, 6, 7, 8, 'salaar', 'zainab'}"
      ]
     },
     "execution_count": 33,
     "metadata": {},
     "output_type": "execute_result"
    }
   ],
   "source": [
    "set2.union(set4)"
   ]
  },
  {
   "cell_type": "code",
   "execution_count": null,
   "id": "3324bc1d",
   "metadata": {},
   "outputs": [],
   "source": [
    "#updating elements of a set with random selection of elements"
   ]
  },
  {
   "cell_type": "code",
   "execution_count": 34,
   "id": "79e99dab",
   "metadata": {},
   "outputs": [
    {
     "data": {
      "text/plain": [
       "{4, 6, 8, 'a', 'c', 't'}"
      ]
     },
     "execution_count": 34,
     "metadata": {},
     "output_type": "execute_result"
    }
   ],
   "source": [
    "set2.update(\"cat\")\n",
    "set2"
   ]
  }
 ],
 "metadata": {
  "kernelspec": {
   "display_name": "Python 3 (ipykernel)",
   "language": "python",
   "name": "python3"
  },
  "language_info": {
   "codemirror_mode": {
    "name": "ipython",
    "version": 3
   },
   "file_extension": ".py",
   "mimetype": "text/x-python",
   "name": "python",
   "nbconvert_exporter": "python",
   "pygments_lexer": "ipython3",
   "version": "3.9.7"
  }
 },
 "nbformat": 4,
 "nbformat_minor": 5
}
