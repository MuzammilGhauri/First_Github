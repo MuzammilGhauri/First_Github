{
 "cells": [
  {
   "cell_type": "markdown",
   "id": "7c10bddb",
   "metadata": {},
   "source": [
    "# Data Structure\n",
    "\n",
    "## Dictionaries"
   ]
  },
  {
   "cell_type": "markdown",
   "id": "fda412ac",
   "metadata": {},
   "source": [
    "- Un-ordered data \n",
    "- sets of values and keys\n",
    "- Mutateable (can be changed)\n",
    "- written on {} and ()"
   ]
  },
  {
   "cell_type": "code",
   "execution_count": 1,
   "id": "aae4f6a0",
   "metadata": {
    "scrolled": true
   },
   "outputs": [
    {
     "data": {
      "text/plain": [
       "{'Bicycle': 10, 'motorbike': 50, 'truck': 80, 'bus': 100, 'car': 120}"
      ]
     },
     "execution_count": 1,
     "metadata": {},
     "output_type": "execute_result"
    }
   ],
   "source": [
    "speed = {\"Bicycle\":10, \"motorbike\": 50, \"truck\":80, \"bus\":100, \"car\":120 }\n",
    "speed"
   ]
  },
  {
   "cell_type": "code",
   "execution_count": 2,
   "id": "93fda9f5",
   "metadata": {},
   "outputs": [],
   "source": [
    "# finding data structure type of variable speed"
   ]
  },
  {
   "cell_type": "code",
   "execution_count": 3,
   "id": "c69a4650",
   "metadata": {
    "scrolled": false
   },
   "outputs": [
    {
     "data": {
      "text/plain": [
       "dict"
      ]
     },
     "execution_count": 3,
     "metadata": {},
     "output_type": "execute_result"
    }
   ],
   "source": [
    "type(speed)"
   ]
  },
  {
   "cell_type": "code",
   "execution_count": 4,
   "id": "16c9c656",
   "metadata": {},
   "outputs": [],
   "source": [
    "# finding keys and values of dictionary"
   ]
  },
  {
   "cell_type": "code",
   "execution_count": 5,
   "id": "9feb1fd8",
   "metadata": {
    "scrolled": true
   },
   "outputs": [
    {
     "data": {
      "text/plain": [
       "dict_keys(['Bicycle', 'motorbike', 'truck', 'bus', 'car'])"
      ]
     },
     "execution_count": 5,
     "metadata": {},
     "output_type": "execute_result"
    }
   ],
   "source": [
    "speed.keys()"
   ]
  },
  {
   "cell_type": "code",
   "execution_count": 6,
   "id": "4a69d679",
   "metadata": {
    "scrolled": false
   },
   "outputs": [
    {
     "data": {
      "text/plain": [
       "dict_values([10, 50, 80, 100, 120])"
      ]
     },
     "execution_count": 6,
     "metadata": {},
     "output_type": "execute_result"
    }
   ],
   "source": [
    "speed.values()"
   ]
  },
  {
   "cell_type": "code",
   "execution_count": 7,
   "id": "c14f2b45",
   "metadata": {},
   "outputs": [],
   "source": [
    "#finding number of data sets in dictionary"
   ]
  },
  {
   "cell_type": "code",
   "execution_count": 8,
   "id": "3458af0a",
   "metadata": {
    "scrolled": false
   },
   "outputs": [
    {
     "data": {
      "text/plain": [
       "5"
      ]
     },
     "execution_count": 8,
     "metadata": {},
     "output_type": "execute_result"
    }
   ],
   "source": [
    "len(speed)"
   ]
  },
  {
   "cell_type": "code",
   "execution_count": 9,
   "id": "f64c658f",
   "metadata": {},
   "outputs": [],
   "source": [
    "#getting value of a key"
   ]
  },
  {
   "cell_type": "code",
   "execution_count": 10,
   "id": "26002a1c",
   "metadata": {
    "scrolled": false
   },
   "outputs": [
    {
     "data": {
      "text/plain": [
       "120"
      ]
     },
     "execution_count": 10,
     "metadata": {},
     "output_type": "execute_result"
    }
   ],
   "source": [
    "speed.get(\"car\")"
   ]
  },
  {
   "cell_type": "code",
   "execution_count": 11,
   "id": "1c9fff5f",
   "metadata": {},
   "outputs": [],
   "source": [
    "#Getting each item or value inside a dictionary"
   ]
  },
  {
   "cell_type": "code",
   "execution_count": 12,
   "id": "48377074",
   "metadata": {},
   "outputs": [
    {
     "data": {
      "text/plain": [
       "dict_items([('Bicycle', 10), ('motorbike', 50), ('truck', 80), ('bus', 100), ('car', 120)])"
      ]
     },
     "execution_count": 12,
     "metadata": {},
     "output_type": "execute_result"
    }
   ],
   "source": [
    "speed.items()"
   ]
  },
  {
   "cell_type": "code",
   "execution_count": 13,
   "id": "727c1bf0",
   "metadata": {},
   "outputs": [],
   "source": [
    "#assigning a value to the items using dict.fromkeys"
   ]
  },
  {
   "cell_type": "code",
   "execution_count": 14,
   "id": "94337c62",
   "metadata": {
    "scrolled": false
   },
   "outputs": [
    {
     "data": {
      "text/plain": [
       "{'cycle': 50, 'truck': 50, 'car': 50, 'bike': 50}"
      ]
     },
     "execution_count": 14,
     "metadata": {},
     "output_type": "execute_result"
    }
   ],
   "source": [
    "vehicles= {\"cycle\", \"bike\", \"truck\", \"car\"}\n",
    "velocity = 50\n",
    "speed1 = dict.fromkeys(vehicles, velocity)\n",
    "speed1"
   ]
  },
  {
   "cell_type": "code",
   "execution_count": 15,
   "id": "9ef0dcc0",
   "metadata": {},
   "outputs": [],
   "source": [
    "#adding new elements"
   ]
  },
  {
   "cell_type": "code",
   "execution_count": 16,
   "id": "339776b9",
   "metadata": {
    "scrolled": true
   },
   "outputs": [
    {
     "data": {
      "text/plain": [
       "{'Bicycle': 10, 'motorbike': 50, 'truck': 70, 'bus': 100, 'car': 120}"
      ]
     },
     "execution_count": 16,
     "metadata": {},
     "output_type": "execute_result"
    }
   ],
   "source": [
    "speed[\"truck\"]=70\n",
    "speed"
   ]
  },
  {
   "cell_type": "code",
   "execution_count": 17,
   "id": "a4d86f83",
   "metadata": {},
   "outputs": [],
   "source": [
    "#concatenating two dictionaries"
   ]
  },
  {
   "cell_type": "code",
   "execution_count": 18,
   "id": "4670b652",
   "metadata": {
    "scrolled": false
   },
   "outputs": [
    {
     "data": {
      "text/plain": [
       "{'cycle': 50,\n",
       " 'truck': 50,\n",
       " 'car': 50,\n",
       " 'bike': 50,\n",
       " 'airplane': 600,\n",
       " 'heavyBike': 300,\n",
       " 'bulletTrain': 400}"
      ]
     },
     "execution_count": 18,
     "metadata": {},
     "output_type": "execute_result"
    }
   ],
   "source": [
    "speed2= {\"airplane\": 600, \"heavyBike\": 300, \"bulletTrain\":400 }\n",
    "speed1.update(speed2)\n",
    "speed1"
   ]
  },
  {
   "cell_type": "code",
   "execution_count": null,
   "id": "5e12039d",
   "metadata": {},
   "outputs": [],
   "source": [
    "#Finding default value of a key in a dictionary. if key is not present, the default value is set as none"
   ]
  },
  {
   "cell_type": "code",
   "execution_count": 20,
   "id": "186f14f0",
   "metadata": {},
   "outputs": [
    {
     "data": {
      "text/plain": [
       "300"
      ]
     },
     "execution_count": 20,
     "metadata": {},
     "output_type": "execute_result"
    }
   ],
   "source": [
    "speed2.setdefault(\"heavyBike\")"
   ]
  }
 ],
 "metadata": {
  "kernelspec": {
   "display_name": "Python 3 (ipykernel)",
   "language": "python",
   "name": "python3"
  },
  "language_info": {
   "codemirror_mode": {
    "name": "ipython",
    "version": 3
   },
   "file_extension": ".py",
   "mimetype": "text/x-python",
   "name": "python",
   "nbconvert_exporter": "python",
   "pygments_lexer": "ipython3",
   "version": "3.9.7"
  }
 },
 "nbformat": 4,
 "nbformat_minor": 5
}
