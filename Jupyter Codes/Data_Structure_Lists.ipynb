{
 "cells": [
  {
   "cell_type": "markdown",
   "id": "58c730f9",
   "metadata": {},
   "source": [
    "# Data Structure\n",
    "\n",
    "## Lists"
   ]
  },
  {
   "cell_type": "code",
   "execution_count": 1,
   "id": "b711cf04",
   "metadata": {},
   "outputs": [
    {
     "data": {
      "text/plain": [
       "[2, 4, 6, 3, 1, 8, 3, 4, 'zainab', 'salaar', 'my kids', True]"
      ]
     },
     "execution_count": 1,
     "metadata": {},
     "output_type": "execute_result"
    }
   ],
   "source": [
    "list1 = [2, 4, 6, 3, 1, 8,  3, 4, \"zainab\", \"salaar\", \"my kids\", True]\n",
    "list1"
   ]
  },
  {
   "cell_type": "code",
   "execution_count": 2,
   "id": "502e75a8",
   "metadata": {},
   "outputs": [],
   "source": [
    "#Finding length (total elements) of a list"
   ]
  },
  {
   "cell_type": "code",
   "execution_count": 3,
   "id": "2de32729",
   "metadata": {},
   "outputs": [
    {
     "data": {
      "text/plain": [
       "12"
      ]
     },
     "execution_count": 3,
     "metadata": {},
     "output_type": "execute_result"
    }
   ],
   "source": [
    "len(list1)"
   ]
  },
  {
   "cell_type": "code",
   "execution_count": 4,
   "id": "31b77137",
   "metadata": {},
   "outputs": [],
   "source": [
    "#Finding index number of a list"
   ]
  },
  {
   "cell_type": "code",
   "execution_count": 5,
   "id": "09282187",
   "metadata": {
    "scrolled": true
   },
   "outputs": [
    {
     "data": {
      "text/plain": [
       "3"
      ]
     },
     "execution_count": 5,
     "metadata": {},
     "output_type": "execute_result"
    }
   ],
   "source": [
    "list1.index(3)"
   ]
  },
  {
   "cell_type": "code",
   "execution_count": 6,
   "id": "98f884ac",
   "metadata": {},
   "outputs": [
    {
     "data": {
      "text/plain": [
       "3"
      ]
     },
     "execution_count": 6,
     "metadata": {},
     "output_type": "execute_result"
    }
   ],
   "source": [
    "list1[3]"
   ]
  },
  {
   "cell_type": "code",
   "execution_count": 7,
   "id": "3cc96372",
   "metadata": {},
   "outputs": [],
   "source": [
    "#concatenating two lists"
   ]
  },
  {
   "cell_type": "code",
   "execution_count": 8,
   "id": "a12df6f7",
   "metadata": {
    "scrolled": false
   },
   "outputs": [
    {
     "data": {
      "text/plain": [
       "[2,\n",
       " 4,\n",
       " 6,\n",
       " 3,\n",
       " 1,\n",
       " 8,\n",
       " 3,\n",
       " 4,\n",
       " 'zainab',\n",
       " 'salaar',\n",
       " 'my kids',\n",
       " True,\n",
       " 2,\n",
       " 4,\n",
       " 6,\n",
       " 4,\n",
       " 6,\n",
       " 9,\n",
       " 2]"
      ]
     },
     "execution_count": 8,
     "metadata": {},
     "output_type": "execute_result"
    }
   ],
   "source": [
    "list2 = [2, 4, 6, 4, 6, 9, 2]\n",
    "list1 + list2"
   ]
  },
  {
   "cell_type": "code",
   "execution_count": 9,
   "id": "2e64d9b5",
   "metadata": {},
   "outputs": [],
   "source": [
    "#Appending / adding elements into list"
   ]
  },
  {
   "cell_type": "code",
   "execution_count": 10,
   "id": "b42eef9e",
   "metadata": {
    "scrolled": false
   },
   "outputs": [
    {
     "data": {
      "text/plain": [
       "[1, 2, 'zainab', 'salaar', 'my kids', 'i love my kids']"
      ]
     },
     "execution_count": 10,
     "metadata": {},
     "output_type": "execute_result"
    }
   ],
   "source": [
    "list1 = [1, 2, \"zainab\", \"salaar\", \"my kids\"]\n",
    "list1.append(\"i love my kids\")\n",
    "list1"
   ]
  },
  {
   "cell_type": "code",
   "execution_count": 11,
   "id": "b54c3e10",
   "metadata": {},
   "outputs": [],
   "source": [
    "#Clearing elements from a list"
   ]
  },
  {
   "cell_type": "code",
   "execution_count": 12,
   "id": "c883e4e3",
   "metadata": {
    "scrolled": false
   },
   "outputs": [
    {
     "data": {
      "text/plain": [
       "[]"
      ]
     },
     "execution_count": 12,
     "metadata": {},
     "output_type": "execute_result"
    }
   ],
   "source": [
    "list2.clear()\n",
    "list2"
   ]
  },
  {
   "cell_type": "code",
   "execution_count": 13,
   "id": "980886d1",
   "metadata": {},
   "outputs": [],
   "source": [
    "#copying a list"
   ]
  },
  {
   "cell_type": "code",
   "execution_count": 14,
   "id": "042589d6",
   "metadata": {
    "scrolled": true
   },
   "outputs": [
    {
     "data": {
      "text/plain": [
       "[1, 2, 3]"
      ]
     },
     "execution_count": 14,
     "metadata": {},
     "output_type": "execute_result"
    }
   ],
   "source": [
    "list4 = [1,2,3]\n",
    "list5 = list4.copy()\n",
    "list5"
   ]
  },
  {
   "cell_type": "code",
   "execution_count": 15,
   "id": "6a6e06cf",
   "metadata": {},
   "outputs": [],
   "source": [
    "#counting repititions of a specific element"
   ]
  },
  {
   "cell_type": "code",
   "execution_count": 16,
   "id": "54a285a1",
   "metadata": {},
   "outputs": [
    {
     "data": {
      "text/plain": [
       "4"
      ]
     },
     "execution_count": 16,
     "metadata": {},
     "output_type": "execute_result"
    }
   ],
   "source": [
    "list6=[1,2,2,3,3,3,65,7,5,4,23,7,8,5,3,5,5]\n",
    "list6.count(3)"
   ]
  },
  {
   "cell_type": "code",
   "execution_count": 17,
   "id": "d1cb2042",
   "metadata": {},
   "outputs": [],
   "source": [
    "#extending list (Adding one list into another)"
   ]
  },
  {
   "cell_type": "code",
   "execution_count": 18,
   "id": "50f58e27",
   "metadata": {
    "scrolled": true
   },
   "outputs": [
    {
     "data": {
      "text/plain": [
       "['a', 'b', 'c', 1, 2, 3]"
      ]
     },
     "execution_count": 18,
     "metadata": {},
     "output_type": "execute_result"
    }
   ],
   "source": [
    "list3 = [\"a\", \"b\", \"c\"]\n",
    "list3.extend(list5)\n",
    "list3"
   ]
  },
  {
   "cell_type": "code",
   "execution_count": 19,
   "id": "1c61e7f0",
   "metadata": {},
   "outputs": [],
   "source": [
    "#inserting into list (adding an element at specified index number in a list)"
   ]
  },
  {
   "cell_type": "code",
   "execution_count": 20,
   "id": "f0e1f182",
   "metadata": {
    "scrolled": false
   },
   "outputs": [
    {
     "data": {
      "text/plain": [
       "[4, 1, 2, 3]"
      ]
     },
     "execution_count": 20,
     "metadata": {},
     "output_type": "execute_result"
    }
   ],
   "source": [
    "list5 = [1, 2, 3]\n",
    "list5.insert(0, 4)\n",
    "list5"
   ]
  },
  {
   "cell_type": "code",
   "execution_count": 21,
   "id": "eaa61884",
   "metadata": {},
   "outputs": [],
   "source": [
    "#popping out an element from a list. if index number is not defined, last number in the list is popped out and returned."
   ]
  },
  {
   "cell_type": "code",
   "execution_count": 22,
   "id": "2d015b7a",
   "metadata": {
    "scrolled": true
   },
   "outputs": [
    {
     "data": {
      "text/plain": [
       "3"
      ]
     },
     "execution_count": 22,
     "metadata": {},
     "output_type": "execute_result"
    }
   ],
   "source": [
    "list5=[1,2,3,4]\n",
    "list5.pop(2) # 3 should be popped out"
   ]
  },
  {
   "cell_type": "code",
   "execution_count": 23,
   "id": "f2b5e6f6",
   "metadata": {
    "scrolled": true
   },
   "outputs": [
    {
     "data": {
      "text/plain": [
       "4"
      ]
     },
     "execution_count": 23,
     "metadata": {},
     "output_type": "execute_result"
    }
   ],
   "source": [
    "list5.pop(2) # now 4 should be popped out as it has moved to index 2 after deletion of 3"
   ]
  },
  {
   "cell_type": "code",
   "execution_count": 24,
   "id": "ee7a4e3b",
   "metadata": {},
   "outputs": [],
   "source": [
    "# Removing selected element from a list and returing the remaining list"
   ]
  },
  {
   "cell_type": "code",
   "execution_count": 25,
   "id": "7f18606a",
   "metadata": {
    "scrolled": false
   },
   "outputs": [
    {
     "data": {
      "text/plain": [
       "[1, 6, 8]"
      ]
     },
     "execution_count": 25,
     "metadata": {},
     "output_type": "execute_result"
    }
   ],
   "source": [
    "list5=[1,3,6,8]\n",
    "list5.remove(3)\n",
    "list5"
   ]
  },
  {
   "cell_type": "code",
   "execution_count": 26,
   "id": "e97514cf",
   "metadata": {},
   "outputs": [],
   "source": [
    "# Reversing the direction of list"
   ]
  },
  {
   "cell_type": "code",
   "execution_count": 27,
   "id": "b6925c9c",
   "metadata": {
    "scrolled": false
   },
   "outputs": [
    {
     "data": {
      "text/plain": [
       "[8, 6, 1]"
      ]
     },
     "execution_count": 27,
     "metadata": {},
     "output_type": "execute_result"
    }
   ],
   "source": [
    "list5.reverse()\n",
    "list5"
   ]
  },
  {
   "cell_type": "code",
   "execution_count": 28,
   "id": "8bf77726",
   "metadata": {},
   "outputs": [],
   "source": [
    "# sorting or writing a list  in ascending order"
   ]
  },
  {
   "cell_type": "code",
   "execution_count": 29,
   "id": "fc16fcd3",
   "metadata": {},
   "outputs": [
    {
     "data": {
      "text/plain": [
       "[1, 2, 3, 4, 6, 7, 8]"
      ]
     },
     "execution_count": 29,
     "metadata": {},
     "output_type": "execute_result"
    }
   ],
   "source": [
    "list7=[4,2,6,3,7,1,8,]\n",
    "list7.sort()\n",
    "list7"
   ]
  }
 ],
 "metadata": {
  "kernelspec": {
   "display_name": "Python 3 (ipykernel)",
   "language": "python",
   "name": "python3"
  },
  "language_info": {
   "codemirror_mode": {
    "name": "ipython",
    "version": 3
   },
   "file_extension": ".py",
   "mimetype": "text/x-python",
   "name": "python",
   "nbconvert_exporter": "python",
   "pygments_lexer": "ipython3",
   "version": "3.9.7"
  }
 },
 "nbformat": 4,
 "nbformat_minor": 5
}
