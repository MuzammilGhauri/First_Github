{
 "cells": [
  {
   "cell_type": "markdown",
   "id": "ca4709a6",
   "metadata": {},
   "source": [
    "# Python ka chilla with baba ammar\n",
    "\n",
    "## How to use Juoyter Notebook\n",
    "\n",
    "### Basics of Python\n",
    "\n",
    "\n",
    "**01_My_First_Program**\n"
   ]
  },
  {
   "cell_type": "code",
   "execution_count": 1,
   "id": "456e3fb3",
   "metadata": {
    "scrolled": true
   },
   "outputs": [
    {
     "name": "stdout",
     "output_type": "stream",
     "text": [
      "5\n",
      "Hello World\n"
     ]
    }
   ],
   "source": [
    "print(2+3)\n",
    "print(\"Hello World\")"
   ]
  },
  {
   "cell_type": "markdown",
   "id": "9d47963d",
   "metadata": {},
   "source": [
    "**02_Operators**"
   ]
  },
  {
   "cell_type": "code",
   "execution_count": 2,
   "id": "47ec5954",
   "metadata": {
    "scrolled": true
   },
   "outputs": [
    {
     "name": "stdout",
     "output_type": "stream",
     "text": [
      "5\n",
      "6\n",
      "1\n",
      "3.0\n",
      "8\n",
      "4\n",
      "3.0\n",
      "3\n",
      "15\n",
      "4\n",
      "1\n",
      "4\n"
     ]
    }
   ],
   "source": [
    "print(2+3)\n",
    "\n",
    "print(2*3)\n",
    "\n",
    "print(3-2)\n",
    "\n",
    "print(6/2)\n",
    "\n",
    "print(2**3)\n",
    "\n",
    "print(9%5)\n",
    "\n",
    "print(6/2)\n",
    "\n",
    "print(6//2)\n",
    "\n",
    "print((2+3)*3)\n",
    "\n",
    "print((2+3)**2*3//15-3+2)\n",
    "\n",
    "print(2+3-1**2*(2+2))\n",
    "\n",
    "print(9//2)\n"
   ]
  },
  {
   "cell_type": "markdown",
   "id": "448a68c2",
   "metadata": {},
   "source": [
    "**03_strings**"
   ]
  },
  {
   "cell_type": "code",
   "execution_count": 3,
   "id": "08ec2034",
   "metadata": {},
   "outputs": [
    {
     "name": "stdout",
     "output_type": "stream",
     "text": [
      "My name is Muzammil\n",
      "My name is Muzammil\n",
      "My name is Muzammil\n"
     ]
    }
   ],
   "source": [
    "print(\"My name is Muzammil\")\n",
    "print('My name is Muzammil')\n",
    "print('''My name is Muzammil''')"
   ]
  },
  {
   "cell_type": "markdown",
   "id": "6de5d193",
   "metadata": {},
   "source": [
    "**04_comments**"
   ]
  },
  {
   "cell_type": "code",
   "execution_count": 4,
   "id": "0e58f6ea",
   "metadata": {
    "scrolled": true
   },
   "outputs": [
    {
     "name": "stdout",
     "output_type": "stream",
     "text": [
      "my daughter's name is zainab\n",
      "my son's name is salaar\n",
      "we are a happy family\n"
     ]
    }
   ],
   "source": [
    "print(\"my daughter's name is zainab\") #telling my daughters name\n",
    "print(\"my son's name is salaar\") # telling my son's name\n",
    "print(\"we are a happy family\") # sharing my thoughts"
   ]
  },
  {
   "cell_type": "markdown",
   "id": "a312ecbb",
   "metadata": {},
   "source": [
    "**05_variable**"
   ]
  },
  {
   "cell_type": "code",
   "execution_count": 5,
   "id": "8c70de7f",
   "metadata": {
    "scrolled": true
   },
   "outputs": [
    {
     "name": "stdout",
     "output_type": "stream",
     "text": [
      "5\n",
      "we are learning python with ammar\n",
      "6\n",
      "<class 'str'>\n"
     ]
    }
   ],
   "source": [
    "x = 5 #integer variable\n",
    "print(x)\n",
    "y=\"we are learning python with ammar\" # string variable\n",
    "print(y)\n",
    "x=15\n",
    "x=6\n",
    "print(x)\n",
    "s=\"five\"\n",
    "print(type(s))"
   ]
  },
  {
   "cell_type": "markdown",
   "id": "5c2e504b",
   "metadata": {},
   "source": [
    "**06_input_variables"
   ]
  },
  {
   "cell_type": "code",
   "execution_count": 7,
   "id": "9e233f22",
   "metadata": {},
   "outputs": [
    {
     "name": "stdout",
     "output_type": "stream",
     "text": [
      "what is your name? Muz\n",
      "what is your age? 33\n",
      "would you  like to learn python? yes\n",
      "good morning Muz we have got to know that your age is 33 thank you for your ineterest in python\n"
     ]
    }
   ],
   "source": [
    "greeting=\"good morning\"\n",
    "name=input(\"what is your name? \")\n",
    "age=input(\"what is your age? \")\n",
    "interest=input(\"would you  like to learn python? \")\n",
    "print(greeting, name, \"we have got to know that your age is\", age, \"thank you for your ineterest in python\")"
   ]
  },
  {
   "cell_type": "markdown",
   "id": "60b83ea5",
   "metadata": {},
   "source": [
    "**07_conditional_logics**"
   ]
  },
  {
   "cell_type": "code",
   "execution_count": 10,
   "id": "01323440",
   "metadata": {},
   "outputs": [
    {
     "name": "stdout",
     "output_type": "stream",
     "text": [
      "True\n",
      "False\n",
      "True\n",
      "True\n"
     ]
    }
   ],
   "source": [
    "print(4==4)\n",
    "print(4!=4)\n",
    "print(4>3)\n",
    "print(3<=5)"
   ]
  },
  {
   "cell_type": "markdown",
   "id": "c5a473ff",
   "metadata": {},
   "source": [
    "**08_type_conversion**"
   ]
  },
  {
   "cell_type": "code",
   "execution_count": 11,
   "id": "1667980c",
   "metadata": {},
   "outputs": [
    {
     "name": "stdout",
     "output_type": "stream",
     "text": [
      "<class 'int'>\n",
      "<class 'float'>\n",
      "<class 'str'>\n",
      "38.56 <class 'float'>\n",
      "<class 'int'>\n"
     ]
    }
   ],
   "source": [
    "alpha=18\n",
    "bravo=20.56\n",
    "charlie=\"character\"\n",
    "\n",
    "print(type(alpha))\n",
    "print(type(bravo))\n",
    "print(type(charlie))\n",
    "\n",
    "addition=alpha + bravo\n",
    "print(addition, type(addition))\n",
    "print(type(int(bravo)))"
   ]
  },
  {
   "cell_type": "markdown",
   "id": "dd3ba7b2",
   "metadata": {},
   "source": [
    "**09_if_elif_else**"
   ]
  },
  {
   "cell_type": "code",
   "execution_count": 13,
   "id": "b2432a08",
   "metadata": {},
   "outputs": [
    {
     "name": "stdout",
     "output_type": "stream",
     "text": [
      "please enter Hammad's age?  4\n",
      "Hammad is underage\n"
     ]
    }
   ],
   "source": [
    "required_age_at_school = 5\n",
    "hammad_age = input(\"please enter Hammad's age?  \")\n",
    "hammad_age=int(hammad_age)\n",
    "\n",
    "if hammad_age < required_age_at_school:\n",
    "    print(\"Hammad is underage\")\n",
    "elif hammad_age == required_age_at_school:\n",
    "        print(\"hammad is just equal to required age\")\n",
    "elif hammad_age > required_age_at_school:\n",
    "    print(\"hammad can comfortably go to school\")"
   ]
  },
  {
   "cell_type": "markdown",
   "id": "fc4217b7",
   "metadata": {},
   "source": [
    "**10_functions**"
   ]
  },
  {
   "cell_type": "code",
   "execution_count": 14,
   "id": "e0babbc6",
   "metadata": {},
   "outputs": [
    {
     "name": "stdout",
     "output_type": "stream",
     "text": [
      "enter value of first angle   20\n",
      "enter value of second angle  30\n",
      "180\n"
     ]
    }
   ],
   "source": [
    "theta1= input(\"enter value of first angle   \")\n",
    "theta2= input(\"enter value of second angle  \")\n",
    "\n",
    "\n",
    "def forward_kinematics(theta1, theta2):\n",
    "    \n",
    "    theta1 = int(theta1)\n",
    "    theta2= int (theta2)\n",
    "    calculation = (2 * theta1) + (3 * theta2)\n",
    "    return calculation\n",
    "\n",
    "\n",
    "print(forward_kinematics(30, 40))"
   ]
  },
  {
   "cell_type": "markdown",
   "id": "6c25a14b",
   "metadata": {},
   "source": [
    "**11_loops**"
   ]
  },
  {
   "cell_type": "code",
   "execution_count": 15,
   "id": "c6f696d7",
   "metadata": {
    "scrolled": true
   },
   "outputs": [
    {
     "name": "stdout",
     "output_type": "stream",
     "text": [
      "0\n",
      "2\n",
      "4\n",
      "6\n",
      "8\n",
      "10\n",
      "12\n",
      "14\n",
      "16\n",
      "18\n",
      "20\n",
      "2\n",
      "4\n",
      "6\n",
      "8\n",
      "10\n",
      "12\n",
      "14\n",
      "16\n",
      "18\n",
      "20\n",
      "22\n",
      "10\n",
      "11\n",
      "12\n",
      "13\n",
      "14\n",
      "15\n",
      "16\n",
      "17\n",
      "18\n",
      "19\n",
      "computational sciences\n",
      "elecctrical\n",
      "computer sccience\n"
     ]
    }
   ],
   "source": [
    "x=0\n",
    "while (x<=20):\n",
    "    print(x)\n",
    "    x=x+2\n",
    "\n",
    "x=0\n",
    "while (x<=20):\n",
    "    x=x+2\n",
    "    print(x)\n",
    "\n",
    "for x in range(10, 20):\n",
    "    print(x)\n",
    "\n",
    "fields = [\"computational sciences\", \"elecctrical\", \"mechanical\", \"computer sccience\"]\n",
    "for i in fields:\n",
    "    if (i==\"mechanical\"): continue\n",
    "    print(i)"
   ]
  },
  {
   "cell_type": "markdown",
   "id": "aec7fcb5",
   "metadata": {},
   "source": [
    "**12_import_libraries**"
   ]
  },
  {
   "cell_type": "code",
   "execution_count": 16,
   "id": "06467f42",
   "metadata": {},
   "outputs": [
    {
     "name": "stdout",
     "output_type": "stream",
     "text": [
      "3.141592653589793\n"
     ]
    }
   ],
   "source": [
    "import math\n",
    "print(math.pi)"
   ]
  }
 ],
 "metadata": {
  "kernelspec": {
   "display_name": "Python 3 (ipykernel)",
   "language": "python",
   "name": "python3"
  },
  "language_info": {
   "codemirror_mode": {
    "name": "ipython",
    "version": 3
   },
   "file_extension": ".py",
   "mimetype": "text/x-python",
   "name": "python",
   "nbconvert_exporter": "python",
   "pygments_lexer": "ipython3",
   "version": "3.9.7"
  }
 },
 "nbformat": 4,
 "nbformat_minor": 5
}
